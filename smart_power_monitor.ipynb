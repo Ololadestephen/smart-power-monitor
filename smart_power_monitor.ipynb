{
 "cells": [
  {
   "cell_type": "markdown",
   "id": "d4791fbd-d3eb-4f0d-82d3-f71cf76e08c7",
   "metadata": {},
   "source": [
    "# ⚡ Smart Power Monitor (Python Simulation)\n",
    "This project simulates a smart power monitoring system using Python.  \n",
    "It generates random voltage and current readings, calculates power, logs data into a CSV file, and visualizes trends over time.\n",
    "\n",
    "## Objectives\n",
    "- Simulate electrical readings (Voltage, Current, Power)\n",
    "- Log data automatically into a CSV file\n",
    "- Visualize results using matplotlib\n",
    "- Build GitHub version history with multiple commits\n",
    "\n",
    "Developed by **Ehuwa Ololade Stephen** 👨‍💻\n"
   ]
  },
  {
   "cell_type": "code",
   "execution_count": null,
   "id": "2584a97b-7522-4729-9949-3d985a57a7f9",
   "metadata": {},
   "outputs": [],
   "source": [
    "import random\n",
    "import csv\n",
    "import os\n",
    "import time\n",
    "from datetime import datetime\n",
    "import matplotlib.pyplot as plt"
   ]
  },
  {
   "cell_type": "markdown",
   "id": "a9e39010-6b4c-4752-9e88-3dde9a7d33d6",
   "metadata": {},
   "source": [
    "## ⚙️ Configuration\n",
    "Define parameters such as file paths, logging directory, and sampling interval."
   ]
  },
  {
   "cell_type": "code",
   "execution_count": null,
   "id": "bff614c7-6c3c-4ca8-9b33-6a926549a5bc",
   "metadata": {},
   "outputs": [],
   "source": [
    "\n",
    "LOG_DIR = \"logs\"\n",
    "LOG_FILE = os.path.join(LOG_DIR, \"power_readings.csv\")\n",
    "SAMPLE_INTERVAL = 1\n",
    "MAX_READINGS = 20\n"
   ]
  },
  {
   "cell_type": "markdown",
   "id": "bd430d00-acfc-4e9f-aa3a-7d64fd792bb7",
   "metadata": {},
   "source": [
    "## 🔌 Generating Random Readings\n",
    "This function simulates voltage, current, and computes power."
   ]
  },
  {
   "cell_type": "code",
   "execution_count": null,
   "id": "ee48ab26-fb0f-4d14-876c-bddd885e7e0b",
   "metadata": {},
   "outputs": [],
   "source": [
    "\n",
    "def generate_readings():\n",
    "    voltage = round(random.uniform(210, 250), 2)\n",
    "    current = round(random.uniform(0.5, 5.0), 2)\n",
    "    power = round(voltage * current, 2)\n",
    "    timestamp = datetime.now().strftime(\"%Y-%m-%d %H:%M:%S\")\n",
    "    return timestamp, voltage, current, power\n"
   ]
  },
  {
   "cell_type": "markdown",
   "id": "dcd5fc43-8f8d-4b43-b86a-2587e77185ce",
   "metadata": {},
   "source": [
    "## 💾 Logging Data to CSV\n",
    "This function saves generated readings into a CSV file located in the `logs/` folder.\n"
   ]
  },
  {
   "cell_type": "code",
   "execution_count": null,
   "id": "f37f86c7-d471-49b2-bf48-00404eba205f",
   "metadata": {},
   "outputs": [],
   "source": [
    "def log_to_csv(data):\n",
    "    os.makedirs(LOG_DIR, exist_ok=True)\n",
    "    file_exists = os.path.isfile(LOG_FILE)\n",
    "\n",
    "    with open(LOG_FILE, \"a\", newline=\"\") as f:\n",
    "        writer = csv.writer(f)\n",
    "        if not file_exists:\n",
    "            writer.writerow([\"Timestamp\", \"Voltage (V)\", \"Current (A)\", \"Power (W)\"])\n",
    "        writer.writerow(data)\n"
   ]
  },
  {
   "cell_type": "markdown",
   "id": "9f5b6c1b-7a36-4d20-bbfa-a22e67d37688",
   "metadata": {},
   "source": [
    "## ▶️ Running the Simulation\n",
    "Run a loop to generate multiple readings and log them automatically.\n"
   ]
  },
  {
   "cell_type": "code",
   "execution_count": null,
   "id": "1004f551-d75b-4568-8044-e19cc01e9485",
   "metadata": {},
   "outputs": [],
   "source": [
    "def plot_data():\n",
    "    timestamps, voltages, currents, powers = [], [], [], []\n",
    "\n",
    "    with open(LOG_FILE, \"r\") as file:\n",
    "        reader = csv.DictReader(file)\n",
    "        for row in reader:\n",
    "            timestamps.append(row[\"Timestamp\"])\n",
    "            voltages.append(float(row[\"Voltage (V)\"]))\n",
    "            currents.append(float(row[\"Current (A)\"]))\n",
    "            powers.append(float(row[\"Power (W)\"]))\n",
    "\n",
    "    plt.figure(figsize=(10, 6))\n",
    "    plt.plot(timestamps, voltages, label=\"Voltage (V)\")\n",
    "    plt.plot(timestamps, currents, label=\"Current (A)\")\n",
    "    plt.plot(timestamps, powers, label=\"Power (W)\")\n",
    "    plt.xticks(rotation=45)\n",
    "    plt.xlabel(\"Time\")\n",
    "    plt.ylabel(\"Readings\")\n",
    "    plt.legend()\n",
    "    plt.title(\"Smart Power Monitor - Data Visualization\")\n",
    "    plt.tight_layout()\n",
    "    plt.show()\n",
    "\n",
    "plot_data()\n"
   ]
  },
  {
   "cell_type": "markdown",
   "id": "a29fac2f-c82f-46c9-97a3-e4d56f0db263",
   "metadata": {},
   "source": [
    "# ✅ Summary\n",
    "This notebook successfully simulates a power monitoring system that:\n",
    "- Generates random electrical readings\n",
    "- Logs them automatically into a CSV file\n",
    "- Plots data trends using `matplotlib`\n",
    "\n",
    "## 🚀 Next Steps\n",
    "- Connect to real sensors (e.g., via Arduino or ESP32)\n",
    "- Upload readings to a cloud dashboard (ThingSpeak / Blynk)\n",
    "- Add anomaly detection using machine learning\n",
    "\n"
   ]
  },
  {
   "cell_type": "code",
   "execution_count": null,
   "id": "ee949f98-68c3-4a8f-9de4-d8fa1bf9a788",
   "metadata": {},
   "outputs": [],
   "source": [
    "\n"
   ]
  }
 ],
 "metadata": {
  "kernelspec": {
   "display_name": "Python 3 (ipykernel)",
   "language": "python",
   "name": "python3"
  },
  "language_info": {
   "codemirror_mode": {
    "name": "ipython",
    "version": 3
   },
   "file_extension": ".py",
   "mimetype": "text/x-python",
   "name": "python",
   "nbconvert_exporter": "python",
   "pygments_lexer": "ipython3",
   "version": "3.13.5"
  }
 },
 "nbformat": 4,
 "nbformat_minor": 5
}
